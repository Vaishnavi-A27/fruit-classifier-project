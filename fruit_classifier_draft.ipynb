{
 "cells": [
  {
   "cell_type": "code",
   "execution_count": 1,
   "id": "01a98f80-c06e-419f-a15e-f7ae40fc4eea",
   "metadata": {},
   "outputs": [],
   "source": [
    "import numpy as np\n",
    "import tensorflow as tf\n",
    "from tensorflow import keras\n",
    "from tensorflow.keras.models import Sequential\n",
    "from tensorflow.keras.layers import Activation, Dense, Flatten, BatchNormalization, Conv2D, MaxPool2D\n",
    "from tensorflow.keras.optimizers import Adam\n",
    "from tensorflow.keras.metrics import categorical_crossentropy\n",
    "from tensorflow.keras.preprocessing.image import ImageDataGenerator\n",
    "from sklearn.metrics import confusion_matrix, mean_squared_error\n",
    "import itertools\n",
    "import os\n",
    "import shutil\n",
    "import random\n",
    "import glob\n",
    "import time\n",
    "import matplotlib.pyplot as plt\n",
    "import warnings\n",
    "warnings.simplefilter(action='ignore', category=FutureWarning)\n",
    "%matplotlib inline"
   ]
  },
  {
   "cell_type": "code",
   "execution_count": 2,
   "id": "22215dd8-ec7d-44b6-8532-2c900f724805",
   "metadata": {},
   "outputs": [],
   "source": [
    "gpus = tf.config.experimental.list_physical_devices('GPU')\n",
    "if gpus:\n",
    "  try:\n",
    "    tf.config.experimental.set_virtual_device_configuration(\n",
    "        gpus[0],[tf.config.experimental.VirtualDeviceConfiguration(memory_limit=1120)])\n",
    "  except RuntimeError as e:\n",
    "    print(e)"
   ]
  },
  {
   "cell_type": "code",
   "execution_count": 3,
   "id": "0b97e5b5-8a82-4b59-b164-56ae39bb49b8",
   "metadata": {},
   "outputs": [],
   "source": [
    "train_path = 'dataset/train'\n",
    "valid_path = 'dataset/valid'\n",
    "test_path = 'dataset/test'"
   ]
  },
  {
   "cell_type": "code",
   "execution_count": 4,
   "id": "0e42582c-5531-409e-8486-1f43b4f47696",
   "metadata": {},
   "outputs": [
    {
     "name": "stdout",
     "output_type": "stream",
     "text": [
      "Found 10101 images belonging to 6 classes.\n",
      "Found 1200 images belonging to 6 classes.\n",
      "Found 2313 images belonging to 6 classes.\n"
     ]
    }
   ],
   "source": [
    "train_batches = ImageDataGenerator(preprocessing_function=tf.keras.applications.mobilenet.preprocess_input).flow_from_directory(\n",
    "    directory=train_path, target_size=(224,224), batch_size=10)\n",
    "valid_batches = ImageDataGenerator(preprocessing_function=tf.keras.applications.mobilenet.preprocess_input).flow_from_directory(\n",
    "    directory=valid_path, target_size=(224,224), batch_size=10)\n",
    "test_batches = ImageDataGenerator(preprocessing_function=tf.keras.applications.mobilenet.preprocess_input).flow_from_directory(\n",
    "    directory=test_path, target_size=(224,224), batch_size=10, shuffle=False)\n",
    "#preprcoess_function scales input pixels between -1 and 1"
   ]
  },
  {
   "cell_type": "code",
   "execution_count": 5,
   "id": "8dc86e0b-9e31-4278-82b6-35244c631a1c",
   "metadata": {},
   "outputs": [],
   "source": [
    "mobile = tf.keras.applications.mobilenet.MobileNet()"
   ]
  },
  {
   "cell_type": "code",
   "execution_count": 6,
   "id": "7855e4e0-42cd-4e22-b59a-fed39b42cb26",
   "metadata": {},
   "outputs": [
    {
     "name": "stdout",
     "output_type": "stream",
     "text": [
      "Model: \"mobilenet_1.00_224\"\n",
      "_________________________________________________________________\n",
      " Layer (type)                Output Shape              Param #   \n",
      "=================================================================\n",
      " input_1 (InputLayer)        [(None, 224, 224, 3)]     0         \n",
      "                                                                 \n",
      " conv1 (Conv2D)              (None, 112, 112, 32)      864       \n",
      "                                                                 \n",
      " conv1_bn (BatchNormalizatio  (None, 112, 112, 32)     128       \n",
      " n)                                                              \n",
      "                                                                 \n",
      " conv1_relu (ReLU)           (None, 112, 112, 32)      0         \n",
      "                                                                 \n",
      " conv_dw_1 (DepthwiseConv2D)  (None, 112, 112, 32)     288       \n",
      "                                                                 \n",
      " conv_dw_1_bn (BatchNormaliz  (None, 112, 112, 32)     128       \n",
      " ation)                                                          \n",
      "                                                                 \n",
      " conv_dw_1_relu (ReLU)       (None, 112, 112, 32)      0         \n",
      "                                                                 \n",
      " conv_pw_1 (Conv2D)          (None, 112, 112, 64)      2048      \n",
      "                                                                 \n",
      " conv_pw_1_bn (BatchNormaliz  (None, 112, 112, 64)     256       \n",
      " ation)                                                          \n",
      "                                                                 \n",
      " conv_pw_1_relu (ReLU)       (None, 112, 112, 64)      0         \n",
      "                                                                 \n",
      " conv_pad_2 (ZeroPadding2D)  (None, 113, 113, 64)      0         \n",
      "                                                                 \n",
      " conv_dw_2 (DepthwiseConv2D)  (None, 56, 56, 64)       576       \n",
      "                                                                 \n",
      " conv_dw_2_bn (BatchNormaliz  (None, 56, 56, 64)       256       \n",
      " ation)                                                          \n",
      "                                                                 \n",
      " conv_dw_2_relu (ReLU)       (None, 56, 56, 64)        0         \n",
      "                                                                 \n",
      " conv_pw_2 (Conv2D)          (None, 56, 56, 128)       8192      \n",
      "                                                                 \n",
      " conv_pw_2_bn (BatchNormaliz  (None, 56, 56, 128)      512       \n",
      " ation)                                                          \n",
      "                                                                 \n",
      " conv_pw_2_relu (ReLU)       (None, 56, 56, 128)       0         \n",
      "                                                                 \n",
      " conv_dw_3 (DepthwiseConv2D)  (None, 56, 56, 128)      1152      \n",
      "                                                                 \n",
      " conv_dw_3_bn (BatchNormaliz  (None, 56, 56, 128)      512       \n",
      " ation)                                                          \n",
      "                                                                 \n",
      " conv_dw_3_relu (ReLU)       (None, 56, 56, 128)       0         \n",
      "                                                                 \n",
      " conv_pw_3 (Conv2D)          (None, 56, 56, 128)       16384     \n",
      "                                                                 \n",
      " conv_pw_3_bn (BatchNormaliz  (None, 56, 56, 128)      512       \n",
      " ation)                                                          \n",
      "                                                                 \n",
      " conv_pw_3_relu (ReLU)       (None, 56, 56, 128)       0         \n",
      "                                                                 \n",
      " conv_pad_4 (ZeroPadding2D)  (None, 57, 57, 128)       0         \n",
      "                                                                 \n",
      " conv_dw_4 (DepthwiseConv2D)  (None, 28, 28, 128)      1152      \n",
      "                                                                 \n",
      " conv_dw_4_bn (BatchNormaliz  (None, 28, 28, 128)      512       \n",
      " ation)                                                          \n",
      "                                                                 \n",
      " conv_dw_4_relu (ReLU)       (None, 28, 28, 128)       0         \n",
      "                                                                 \n",
      " conv_pw_4 (Conv2D)          (None, 28, 28, 256)       32768     \n",
      "                                                                 \n",
      " conv_pw_4_bn (BatchNormaliz  (None, 28, 28, 256)      1024      \n",
      " ation)                                                          \n",
      "                                                                 \n",
      " conv_pw_4_relu (ReLU)       (None, 28, 28, 256)       0         \n",
      "                                                                 \n",
      " conv_dw_5 (DepthwiseConv2D)  (None, 28, 28, 256)      2304      \n",
      "                                                                 \n",
      " conv_dw_5_bn (BatchNormaliz  (None, 28, 28, 256)      1024      \n",
      " ation)                                                          \n",
      "                                                                 \n",
      " conv_dw_5_relu (ReLU)       (None, 28, 28, 256)       0         \n",
      "                                                                 \n",
      " conv_pw_5 (Conv2D)          (None, 28, 28, 256)       65536     \n",
      "                                                                 \n",
      " conv_pw_5_bn (BatchNormaliz  (None, 28, 28, 256)      1024      \n",
      " ation)                                                          \n",
      "                                                                 \n",
      " conv_pw_5_relu (ReLU)       (None, 28, 28, 256)       0         \n",
      "                                                                 \n",
      " conv_pad_6 (ZeroPadding2D)  (None, 29, 29, 256)       0         \n",
      "                                                                 \n",
      " conv_dw_6 (DepthwiseConv2D)  (None, 14, 14, 256)      2304      \n",
      "                                                                 \n",
      " conv_dw_6_bn (BatchNormaliz  (None, 14, 14, 256)      1024      \n",
      " ation)                                                          \n",
      "                                                                 \n",
      " conv_dw_6_relu (ReLU)       (None, 14, 14, 256)       0         \n",
      "                                                                 \n",
      " conv_pw_6 (Conv2D)          (None, 14, 14, 512)       131072    \n",
      "                                                                 \n",
      " conv_pw_6_bn (BatchNormaliz  (None, 14, 14, 512)      2048      \n",
      " ation)                                                          \n",
      "                                                                 \n",
      " conv_pw_6_relu (ReLU)       (None, 14, 14, 512)       0         \n",
      "                                                                 \n",
      " conv_dw_7 (DepthwiseConv2D)  (None, 14, 14, 512)      4608      \n",
      "                                                                 \n",
      " conv_dw_7_bn (BatchNormaliz  (None, 14, 14, 512)      2048      \n",
      " ation)                                                          \n",
      "                                                                 \n",
      " conv_dw_7_relu (ReLU)       (None, 14, 14, 512)       0         \n",
      "                                                                 \n",
      " conv_pw_7 (Conv2D)          (None, 14, 14, 512)       262144    \n",
      "                                                                 \n",
      " conv_pw_7_bn (BatchNormaliz  (None, 14, 14, 512)      2048      \n",
      " ation)                                                          \n",
      "                                                                 \n",
      " conv_pw_7_relu (ReLU)       (None, 14, 14, 512)       0         \n",
      "                                                                 \n",
      " conv_dw_8 (DepthwiseConv2D)  (None, 14, 14, 512)      4608      \n",
      "                                                                 \n",
      " conv_dw_8_bn (BatchNormaliz  (None, 14, 14, 512)      2048      \n",
      " ation)                                                          \n",
      "                                                                 \n",
      " conv_dw_8_relu (ReLU)       (None, 14, 14, 512)       0         \n",
      "                                                                 \n",
      " conv_pw_8 (Conv2D)          (None, 14, 14, 512)       262144    \n",
      "                                                                 \n",
      " conv_pw_8_bn (BatchNormaliz  (None, 14, 14, 512)      2048      \n",
      " ation)                                                          \n",
      "                                                                 \n",
      " conv_pw_8_relu (ReLU)       (None, 14, 14, 512)       0         \n",
      "                                                                 \n",
      " conv_dw_9 (DepthwiseConv2D)  (None, 14, 14, 512)      4608      \n",
      "                                                                 \n",
      " conv_dw_9_bn (BatchNormaliz  (None, 14, 14, 512)      2048      \n",
      " ation)                                                          \n",
      "                                                                 \n",
      " conv_dw_9_relu (ReLU)       (None, 14, 14, 512)       0         \n",
      "                                                                 \n",
      " conv_pw_9 (Conv2D)          (None, 14, 14, 512)       262144    \n",
      "                                                                 \n",
      " conv_pw_9_bn (BatchNormaliz  (None, 14, 14, 512)      2048      \n",
      " ation)                                                          \n",
      "                                                                 \n",
      " conv_pw_9_relu (ReLU)       (None, 14, 14, 512)       0         \n",
      "                                                                 \n",
      " conv_dw_10 (DepthwiseConv2D  (None, 14, 14, 512)      4608      \n",
      " )                                                               \n",
      "                                                                 \n",
      " conv_dw_10_bn (BatchNormali  (None, 14, 14, 512)      2048      \n",
      " zation)                                                         \n",
      "                                                                 \n",
      " conv_dw_10_relu (ReLU)      (None, 14, 14, 512)       0         \n",
      "                                                                 \n",
      " conv_pw_10 (Conv2D)         (None, 14, 14, 512)       262144    \n",
      "                                                                 \n",
      " conv_pw_10_bn (BatchNormali  (None, 14, 14, 512)      2048      \n",
      " zation)                                                         \n",
      "                                                                 \n",
      " conv_pw_10_relu (ReLU)      (None, 14, 14, 512)       0         \n",
      "                                                                 \n",
      " conv_dw_11 (DepthwiseConv2D  (None, 14, 14, 512)      4608      \n",
      " )                                                               \n",
      "                                                                 \n",
      " conv_dw_11_bn (BatchNormali  (None, 14, 14, 512)      2048      \n",
      " zation)                                                         \n",
      "                                                                 \n",
      " conv_dw_11_relu (ReLU)      (None, 14, 14, 512)       0         \n",
      "                                                                 \n",
      " conv_pw_11 (Conv2D)         (None, 14, 14, 512)       262144    \n",
      "                                                                 \n",
      " conv_pw_11_bn (BatchNormali  (None, 14, 14, 512)      2048      \n",
      " zation)                                                         \n",
      "                                                                 \n",
      " conv_pw_11_relu (ReLU)      (None, 14, 14, 512)       0         \n",
      "                                                                 \n",
      " conv_pad_12 (ZeroPadding2D)  (None, 15, 15, 512)      0         \n",
      "                                                                 \n",
      " conv_dw_12 (DepthwiseConv2D  (None, 7, 7, 512)        4608      \n",
      " )                                                               \n",
      "                                                                 \n",
      " conv_dw_12_bn (BatchNormali  (None, 7, 7, 512)        2048      \n",
      " zation)                                                         \n",
      "                                                                 \n",
      " conv_dw_12_relu (ReLU)      (None, 7, 7, 512)         0         \n",
      "                                                                 \n",
      " conv_pw_12 (Conv2D)         (None, 7, 7, 1024)        524288    \n",
      "                                                                 \n",
      " conv_pw_12_bn (BatchNormali  (None, 7, 7, 1024)       4096      \n",
      " zation)                                                         \n",
      "                                                                 \n",
      " conv_pw_12_relu (ReLU)      (None, 7, 7, 1024)        0         \n",
      "                                                                 \n",
      " conv_dw_13 (DepthwiseConv2D  (None, 7, 7, 1024)       9216      \n",
      " )                                                               \n",
      "                                                                 \n",
      " conv_dw_13_bn (BatchNormali  (None, 7, 7, 1024)       4096      \n",
      " zation)                                                         \n",
      "                                                                 \n",
      " conv_dw_13_relu (ReLU)      (None, 7, 7, 1024)        0         \n",
      "                                                                 \n",
      " conv_pw_13 (Conv2D)         (None, 7, 7, 1024)        1048576   \n",
      "                                                                 \n",
      " conv_pw_13_bn (BatchNormali  (None, 7, 7, 1024)       4096      \n",
      " zation)                                                         \n",
      "                                                                 \n",
      " conv_pw_13_relu (ReLU)      (None, 7, 7, 1024)        0         \n",
      "                                                                 \n",
      " global_average_pooling2d (G  (None, 1, 1, 1024)       0         \n",
      " lobalAveragePooling2D)                                          \n",
      "                                                                 \n",
      " dropout (Dropout)           (None, 1, 1, 1024)        0         \n",
      "                                                                 \n",
      " conv_preds (Conv2D)         (None, 1, 1, 1000)        1025000   \n",
      "                                                                 \n",
      " reshape_2 (Reshape)         (None, 1000)              0         \n",
      "                                                                 \n",
      " predictions (Activation)    (None, 1000)              0         \n",
      "                                                                 \n",
      "=================================================================\n",
      "Total params: 4,253,864\n",
      "Trainable params: 4,231,976\n",
      "Non-trainable params: 21,888\n",
      "_________________________________________________________________\n",
      "CPU times: total: 172 ms\n",
      "Wall time: 160 ms\n"
     ]
    }
   ],
   "source": [
    "%%time\n",
    "mobile.summary()"
   ]
  },
  {
   "cell_type": "code",
   "execution_count": 7,
   "id": "82f39844-4d47-4913-a91b-9d0ee9de6fc8",
   "metadata": {},
   "outputs": [],
   "source": [
    "x = mobile.layers[-1].output"
   ]
  },
  {
   "cell_type": "code",
   "execution_count": 8,
   "id": "855ccdc8-4ddf-440f-9377-fbc49a79a965",
   "metadata": {},
   "outputs": [],
   "source": [
    "output = Dense(units=6, activation='softmax')(x)"
   ]
  },
  {
   "cell_type": "code",
   "execution_count": 9,
   "id": "dae943a6-5de6-49b4-9328-339e52aa82bb",
   "metadata": {},
   "outputs": [],
   "source": [
    "from tensorflow.keras.models import Model"
   ]
  },
  {
   "cell_type": "code",
   "execution_count": 10,
   "id": "09da7d8b-87eb-472a-a362-4872c76a677f",
   "metadata": {},
   "outputs": [],
   "source": [
    "model = Model(inputs=mobile.input, outputs=output)"
   ]
  },
  {
   "cell_type": "code",
   "execution_count": 11,
   "id": "50327a3a-ad89-44ae-ae9f-75589d395406",
   "metadata": {},
   "outputs": [],
   "source": [
    "for layer in model.layers[:-5]:\n",
    "    layer.trainable = False"
   ]
  },
  {
   "cell_type": "code",
   "execution_count": 12,
   "id": "8cff2ccd-7d0f-4fae-9861-63998a9ad921",
   "metadata": {},
   "outputs": [],
   "source": [
    "model.compile(\n",
    "      optimizer=Adam(learning_rate=0.0001)\n",
    "    , loss='categorical_crossentropy'\n",
    "    , metrics=['accuracy']\n",
    ")"
   ]
  },
  {
   "cell_type": "code",
   "execution_count": 13,
   "id": "bfd02ddb-222d-4541-bdee-9591c038ff03",
   "metadata": {},
   "outputs": [
    {
     "name": "stdout",
     "output_type": "stream",
     "text": [
      "Epoch 1/50\n",
      "1011/1011 - 70s - loss: 1.6988 - accuracy: 0.7202 - val_loss: 1.6264 - val_accuracy: 0.8700 - 70s/epoch - 69ms/step\n",
      "Epoch 2/50\n",
      "1011/1011 - 72s - loss: 1.5442 - accuracy: 0.9289 - val_loss: 1.4961 - val_accuracy: 0.9325 - 72s/epoch - 71ms/step\n",
      "Epoch 3/50\n",
      "1011/1011 - 80s - loss: 1.4165 - accuracy: 0.9567 - val_loss: 1.3779 - val_accuracy: 0.9483 - 80s/epoch - 79ms/step\n",
      "Epoch 4/50\n",
      "1011/1011 - 104s - loss: 1.2982 - accuracy: 0.9691 - val_loss: 1.2688 - val_accuracy: 0.9592 - 104s/epoch - 103ms/step\n",
      "Epoch 5/50\n",
      "1011/1011 - 135s - loss: 1.1873 - accuracy: 0.9760 - val_loss: 1.1648 - val_accuracy: 0.9650 - 135s/epoch - 133ms/step\n",
      "Epoch 6/50\n",
      "1011/1011 - 98s - loss: 1.0823 - accuracy: 0.9816 - val_loss: 1.0661 - val_accuracy: 0.9683 - 98s/epoch - 97ms/step\n",
      "Epoch 7/50\n",
      "1011/1011 - 339s - loss: 0.9831 - accuracy: 0.9851 - val_loss: 0.9722 - val_accuracy: 0.9708 - 339s/epoch - 335ms/step\n",
      "Epoch 8/50\n",
      "1011/1011 - 350s - loss: 0.8900 - accuracy: 0.9885 - val_loss: 0.8869 - val_accuracy: 0.9700 - 350s/epoch - 346ms/step\n",
      "Epoch 9/50\n",
      "1011/1011 - 350s - loss: 0.8035 - accuracy: 0.9909 - val_loss: 0.8040 - val_accuracy: 0.9733 - 350s/epoch - 346ms/step\n",
      "Epoch 10/50\n",
      "1011/1011 - 350s - loss: 0.7235 - accuracy: 0.9921 - val_loss: 0.7297 - val_accuracy: 0.9750 - 350s/epoch - 346ms/step\n",
      "Epoch 11/50\n",
      "1011/1011 - 350s - loss: 0.6498 - accuracy: 0.9931 - val_loss: 0.6542 - val_accuracy: 0.9783 - 350s/epoch - 346ms/step\n",
      "Epoch 12/50\n",
      "1011/1011 - 350s - loss: 0.5820 - accuracy: 0.9942 - val_loss: 0.5893 - val_accuracy: 0.9800 - 350s/epoch - 346ms/step\n",
      "Epoch 13/50\n",
      "1011/1011 - 120s - loss: 0.5202 - accuracy: 0.9939 - val_loss: 0.5325 - val_accuracy: 0.9792 - 120s/epoch - 119ms/step\n",
      "Epoch 14/50\n",
      "1011/1011 - 126s - loss: 0.4636 - accuracy: 0.9941 - val_loss: 0.4732 - val_accuracy: 0.9850 - 126s/epoch - 124ms/step\n",
      "Epoch 15/50\n",
      "1011/1011 - 349s - loss: 0.4124 - accuracy: 0.9951 - val_loss: 0.4236 - val_accuracy: 0.9867 - 349s/epoch - 346ms/step\n",
      "Epoch 16/50\n",
      "1011/1011 - 350s - loss: 0.3658 - accuracy: 0.9956 - val_loss: 0.3775 - val_accuracy: 0.9892 - 350s/epoch - 346ms/step\n",
      "Epoch 17/50\n",
      "1011/1011 - 163s - loss: 0.3240 - accuracy: 0.9962 - val_loss: 0.3419 - val_accuracy: 0.9858 - 163s/epoch - 161ms/step\n",
      "Epoch 18/50\n",
      "1011/1011 - 96s - loss: 0.2862 - accuracy: 0.9968 - val_loss: 0.2991 - val_accuracy: 0.9883 - 96s/epoch - 95ms/step\n",
      "Epoch 19/50\n",
      "1011/1011 - 99s - loss: 0.2521 - accuracy: 0.9974 - val_loss: 0.2659 - val_accuracy: 0.9892 - 99s/epoch - 98ms/step\n",
      "Epoch 20/50\n",
      "1011/1011 - 84s - loss: 0.2218 - accuracy: 0.9977 - val_loss: 0.2369 - val_accuracy: 0.9892 - 84s/epoch - 83ms/step\n",
      "Epoch 21/50\n",
      "1011/1011 - 83s - loss: 0.1948 - accuracy: 0.9985 - val_loss: 0.2112 - val_accuracy: 0.9908 - 83s/epoch - 82ms/step\n",
      "Epoch 22/50\n",
      "1011/1011 - 95s - loss: 0.1711 - accuracy: 0.9986 - val_loss: 0.1850 - val_accuracy: 0.9925 - 95s/epoch - 94ms/step\n",
      "Epoch 23/50\n",
      "1011/1011 - 113s - loss: 0.1496 - accuracy: 0.9992 - val_loss: 0.1648 - val_accuracy: 0.9925 - 113s/epoch - 112ms/step\n",
      "Epoch 24/50\n",
      "1011/1011 - 79s - loss: 0.1308 - accuracy: 0.9994 - val_loss: 0.1465 - val_accuracy: 0.9908 - 79s/epoch - 79ms/step\n",
      "Epoch 25/50\n",
      "1011/1011 - 78s - loss: 0.1144 - accuracy: 0.9996 - val_loss: 0.1313 - val_accuracy: 0.9933 - 78s/epoch - 77ms/step\n",
      "Epoch 26/50\n",
      "1011/1011 - 77s - loss: 0.0998 - accuracy: 0.9997 - val_loss: 0.1226 - val_accuracy: 0.9908 - 77s/epoch - 76ms/step\n",
      "Epoch 27/50\n",
      "1011/1011 - 78s - loss: 0.0872 - accuracy: 0.9997 - val_loss: 0.1038 - val_accuracy: 0.9933 - 78s/epoch - 77ms/step\n",
      "Epoch 28/50\n",
      "1011/1011 - 77s - loss: 0.0758 - accuracy: 0.9999 - val_loss: 0.0943 - val_accuracy: 0.9925 - 77s/epoch - 77ms/step\n",
      "Epoch 29/50\n",
      "1011/1011 - 82s - loss: 0.0661 - accuracy: 0.9998 - val_loss: 0.0830 - val_accuracy: 0.9942 - 82s/epoch - 81ms/step\n",
      "Epoch 30/50\n",
      "1011/1011 - 80s - loss: 0.0576 - accuracy: 1.0000 - val_loss: 0.0751 - val_accuracy: 0.9933 - 80s/epoch - 79ms/step\n",
      "Epoch 31/50\n",
      "1011/1011 - 80s - loss: 0.0501 - accuracy: 1.0000 - val_loss: 0.0710 - val_accuracy: 0.9917 - 80s/epoch - 79ms/step\n",
      "Epoch 32/50\n",
      "1011/1011 - 79s - loss: 0.0437 - accuracy: 1.0000 - val_loss: 0.0596 - val_accuracy: 0.9950 - 79s/epoch - 78ms/step\n",
      "Epoch 33/50\n",
      "1011/1011 - 79s - loss: 0.0380 - accuracy: 1.0000 - val_loss: 0.0569 - val_accuracy: 0.9942 - 79s/epoch - 78ms/step\n",
      "Epoch 34/50\n",
      "1011/1011 - 80s - loss: 0.0331 - accuracy: 1.0000 - val_loss: 0.0513 - val_accuracy: 0.9950 - 80s/epoch - 79ms/step\n",
      "Epoch 35/50\n",
      "1011/1011 - 81s - loss: 0.0289 - accuracy: 1.0000 - val_loss: 0.0448 - val_accuracy: 0.9958 - 81s/epoch - 80ms/step\n",
      "Epoch 36/50\n",
      "1011/1011 - 81s - loss: 0.0251 - accuracy: 1.0000 - val_loss: 0.0418 - val_accuracy: 0.9942 - 81s/epoch - 80ms/step\n",
      "Epoch 37/50\n",
      "1011/1011 - 77s - loss: 0.0218 - accuracy: 1.0000 - val_loss: 0.0446 - val_accuracy: 0.9925 - 77s/epoch - 76ms/step\n",
      "Epoch 38/50\n",
      "1011/1011 - 78s - loss: 0.0190 - accuracy: 1.0000 - val_loss: 0.0371 - val_accuracy: 0.9950 - 78s/epoch - 77ms/step\n",
      "Epoch 39/50\n",
      "1011/1011 - 77s - loss: 0.0165 - accuracy: 1.0000 - val_loss: 0.0351 - val_accuracy: 0.9950 - 77s/epoch - 76ms/step\n",
      "Epoch 40/50\n",
      "1011/1011 - 76s - loss: 0.0144 - accuracy: 1.0000 - val_loss: 0.0310 - val_accuracy: 0.9958 - 76s/epoch - 76ms/step\n",
      "Epoch 41/50\n",
      "1011/1011 - 77s - loss: 0.0125 - accuracy: 1.0000 - val_loss: 0.0306 - val_accuracy: 0.9950 - 77s/epoch - 76ms/step\n",
      "Epoch 42/50\n",
      "1011/1011 - 79s - loss: 0.0109 - accuracy: 1.0000 - val_loss: 0.0279 - val_accuracy: 0.9967 - 79s/epoch - 78ms/step\n",
      "Epoch 43/50\n",
      "1011/1011 - 79s - loss: 0.0094 - accuracy: 1.0000 - val_loss: 0.0254 - val_accuracy: 0.9950 - 79s/epoch - 78ms/step\n",
      "Epoch 44/50\n",
      "1011/1011 - 78s - loss: 0.0082 - accuracy: 1.0000 - val_loss: 0.0246 - val_accuracy: 0.9958 - 78s/epoch - 77ms/step\n",
      "Epoch 45/50\n",
      "1011/1011 - 78s - loss: 0.0071 - accuracy: 1.0000 - val_loss: 0.0247 - val_accuracy: 0.9958 - 78s/epoch - 77ms/step\n",
      "Epoch 46/50\n",
      "1011/1011 - 79s - loss: 0.0062 - accuracy: 1.0000 - val_loss: 0.0242 - val_accuracy: 0.9958 - 79s/epoch - 78ms/step\n",
      "Epoch 47/50\n",
      "1011/1011 - 78s - loss: 0.0054 - accuracy: 1.0000 - val_loss: 0.0231 - val_accuracy: 0.9958 - 78s/epoch - 77ms/step\n",
      "Epoch 48/50\n",
      "1011/1011 - 78s - loss: 0.0047 - accuracy: 1.0000 - val_loss: 0.0231 - val_accuracy: 0.9950 - 78s/epoch - 77ms/step\n",
      "Epoch 49/50\n",
      "1011/1011 - 78s - loss: 0.0041 - accuracy: 1.0000 - val_loss: 0.0228 - val_accuracy: 0.9958 - 78s/epoch - 77ms/step\n",
      "Epoch 50/50\n",
      "1011/1011 - 75s - loss: 0.0035 - accuracy: 1.0000 - val_loss: 0.0203 - val_accuracy: 0.9958 - 75s/epoch - 74ms/step\n",
      "CPU times: total: 3h 51min 54s\n",
      "Wall time: 1h 47min 21s\n"
     ]
    }
   ],
   "source": [
    "%%time\n",
    "history = model.fit(\n",
    "      x=train_batches\n",
    "    , steps_per_epoch=len(train_batches)\n",
    "    , validation_data=valid_batches\n",
    "    , validation_steps=len(valid_batches)\n",
    "    , epochs=50\n",
    "    , verbose=2\n",
    ")"
   ]
  },
  {
   "cell_type": "code",
   "execution_count": 14,
   "id": "9f0e79fa-e63f-4190-b817-ddbf7a44ab0f",
   "metadata": {},
   "outputs": [
    {
     "data": {
      "image/png": "[encoded data removed]",
      "text/plain": [
       "<Figure size 432x288 with 1 Axes>"
      ]
     },
     "metadata": {
      "needs_background": "light"
     },
     "output_type": "display_data"
    }
   ],
   "source": [
    "plt.plot(history.history['accuracy'])\n",
    "plt.plot(history.history['val_accuracy'])\n",
    "plt.title('model accuracy')\n",
    "plt.ylabel('accuracy')\n",
    "plt.xlabel('epoch')\n",
    "plt.legend(['train', 'val'], loc='upper left')\n",
    "plt.savefig('acc_05_50.png')\n",
    "plt.show()"
   ]
  },
  {
   "cell_type": "code",
   "execution_count": 15,
   "id": "b7a89649-0c50-4ca0-b43d-9a62f776301d",
   "metadata": {},
   "outputs": [
    {
     "data": {
      "image/png": "[encoded data removed]",
      "text/plain": [
       "<Figure size 432x288 with 1 Axes>"
      ]
     },
     "metadata": {
      "needs_background": "light"
     },
     "output_type": "display_data"
    }
   ],
   "source": [
    "plt.plot(history.history['loss'])\n",
    "plt.plot(history.history['val_loss'])\n",
    "plt.title('model loss')\n",
    "plt.ylabel('loss')\n",
    "plt.xlabel('epoch')\n",
    "plt.legend(['train', 'val'], loc='upper left')\n",
    "plt.savefig('loss_05_50.png')\n",
    "plt.show()"
   ]
  },
  {
   "cell_type": "code",
   "execution_count": 16,
   "id": "41da156d-9b86-45b8-926c-8edae5acb9c9",
   "metadata": {},
   "outputs": [],
   "source": [
    "test_labels = test_batches.classes"
   ]
  },
  {
   "cell_type": "code",
   "execution_count": 17,
   "id": "10f74f73-4b2b-4015-92d6-1173feead5eb",
   "metadata": {},
   "outputs": [
    {
     "data": {
      "text/plain": [
       "{'freshapples': 0,\n",
       " 'freshbanana': 1,\n",
       " 'freshoranges': 2,\n",
       " 'rottenapples': 3,\n",
       " 'rottenbanana': 4,\n",
       " 'rottenoranges': 5}"
      ]
     },
     "execution_count": 17,
     "metadata": {},
     "output_type": "execute_result"
    }
   ],
   "source": [
    "test_batches.class_indices"
   ]
  },
  {
   "cell_type": "code",
   "execution_count": 18,
   "id": "ad4595b8-1089-4238-b59a-c78cb31cf1e0",
   "metadata": {},
   "outputs": [
    {
     "name": "stdout",
     "output_type": "stream",
     "text": [
      "CPU times: total: 20.6 s\n",
      "Wall time: 22.1 s\n"
     ]
    }
   ],
   "source": [
    "%%time\n",
    "predictions = model.predict(x=test_batches, verbose=0)"
   ]
  },
  {
   "cell_type": "code",
   "execution_count": 19,
   "id": "e40d1d58-f2ba-4063-b041-6121a846b4ae",
   "metadata": {},
   "outputs": [
    {
     "name": "stdout",
     "output_type": "stream",
     "text": [
      "(2313, 6)\n"
     ]
    }
   ],
   "source": [
    "print(predictions.shape)"
   ]
  },
  {
   "cell_type": "code",
   "execution_count": 20,
   "id": "2ea40505-1c00-4d77-91d5-facc44fac934",
   "metadata": {},
   "outputs": [
    {
     "name": "stdout",
     "output_type": "stream",
     "text": [
      "232/232 [==============================] - 13s 56ms/step - loss: 0.0122 - accuracy: 0.9978\n",
      "CPU times: total: 33.5 s\n",
      "Wall time: 13.2 s\n"
     ]
    },
    {
     "data": {
      "text/plain": [
       "[0.012189043685793877, 0.9978383183479309]"
      ]
     },
     "execution_count": 20,
     "metadata": {},
     "output_type": "execute_result"
    }
   ],
   "source": [
    "%%time\n",
    "model.evaluate(test_batches)"
   ]
  },
  {
   "cell_type": "code",
   "execution_count": 21,
   "id": "0bc1de4c-65ac-455f-8c54-8828d2cfc9ab",
   "metadata": {},
   "outputs": [
    {
     "name": "stdout",
     "output_type": "stream",
     "text": [
      "232/232 [==============================] - 13s 56ms/step - loss: 0.0122 - accuracy: 0.9978\n",
      "Test accuracy : 0.9978383183479309\n",
      "CPU times: total: 33.3 s\n",
      "Wall time: 13.4 s\n"
     ]
    }
   ],
   "source": [
    "%%time\n",
    "loss, accuracy = model.evaluate(test_batches)\n",
    "print('Test accuracy :', accuracy)"
   ]
  },
  {
   "cell_type": "code",
   "execution_count": 22,
   "id": "ecaf8b10-4b0a-4994-85a7-ef9571921119",
   "metadata": {},
   "outputs": [
    {
     "name": "stdout",
     "output_type": "stream",
     "text": [
      "<keras.preprocessing.image.DirectoryIterator object at 0x000002BB32410100>\n"
     ]
    }
   ],
   "source": [
    "print(train_batches)"
   ]
  },
  {
   "cell_type": "code",
   "execution_count": 23,
   "id": "3332aca3-2b7c-4848-a503-63f5a63e1943",
   "metadata": {},
   "outputs": [],
   "source": [
    "def plot_confusion_matrix(cm, classes,\n",
    "        normalize=False,\n",
    "        title='Confusion matrix',\n",
    "        cmap=plt.cm.Blues):\n",
    "    \"\"\"\n",
    "    This function prints and plots the confusion matrix.\n",
    "    Normalization can be applied by setting `normalize=True`.\n",
    "    \"\"\"\n",
    "    plt.imshow(cm, interpolation='nearest', cmap=cmap)\n",
    "    plt.title(title)\n",
    "    plt.colorbar()\n",
    "    tick_marks = np.arange(len(classes))\n",
    "    plt.xticks(tick_marks, classes, rotation=45)\n",
    "    plt.yticks(tick_marks, classes)\n",
    "\n",
    "    if normalize:\n",
    "        cm = cm.astype('float') / cm.sum(axis=1)[:, np.newaxis]\n",
    "        print(\"Normalized confusion matrix\")\n",
    "    else:\n",
    "        print('Confusion matrix, without normalization')\n",
    "\n",
    "    print(cm)\n",
    "\n",
    "    thresh = cm.max() / 2.\n",
    "    for i, j in itertools.product(range(cm.shape[0]), range(cm.shape[1])):\n",
    "        plt.text(j, i, cm[i, j],\n",
    "            horizontalalignment=\"center\",\n",
    "            color=\"white\" if cm[i, j] > thresh else \"black\")\n",
    "\n",
    "    plt.tight_layout()\n",
    "    plt.ylabel('True label')\n",
    "    plt.xlabel('Predicted label')"
   ]
  },
  {
   "cell_type": "code",
   "execution_count": 24,
   "id": "5bbe8c23-93f3-4e85-a7ab-6546dd8352ac",
   "metadata": {},
   "outputs": [],
   "source": [
    "cm = confusion_matrix(y_true=test_labels, y_pred=predictions.argmax(axis=1))"
   ]
  },
  {
   "cell_type": "code",
   "execution_count": 25,
   "id": "ca6a0ecd-0a3a-46be-aa38-c6b096e2a194",
   "metadata": {},
   "outputs": [
    {
     "name": "stdout",
     "output_type": "stream",
     "text": [
      "[0 0 0 ... 5 5 5]\n"
     ]
    }
   ],
   "source": [
    "y_pred=predictions.argmax(axis=1)\n",
    "print(y_pred)"
   ]
  },
  {
   "cell_type": "code",
   "execution_count": 26,
   "id": "7d7efa7a-1d6e-44e5-ae88-a00f5db3bd11",
   "metadata": {},
   "outputs": [],
   "source": [
    "cm_plot_labels = ['freshapples','freshbanana','freshoranges','rottenapples','rottenbanana','rottenoranges']"
   ]
  },
  {
   "cell_type": "code",
   "execution_count": 27,
   "id": "0ee37aaa-e777-4816-929e-2d18c91abf65",
   "metadata": {},
   "outputs": [
    {
     "name": "stdout",
     "output_type": "stream",
     "text": [
      "Confusion matrix, without normalization\n",
      "[[310   0   0   0   0   0]\n",
      " [  0 231   0   0   0   0]\n",
      " [  1   0 336   0   0   1]\n",
      " [  1   0   0 600   0   0]\n",
      " [  0   0   0   0 480   0]\n",
      " [  0   0   1   1   0 351]]\n"
     ]
    },
    {
     "data": {
      "image/png": "[encoded data removed]",
      "text/plain": [
       "<Figure size 432x288 with 2 Axes>"
      ]
     },
     "metadata": {
      "needs_background": "light"
     },
     "output_type": "display_data"
    }
   ],
   "source": [
    "plot_confusion_matrix(cm=cm, classes=cm_plot_labels, title='Confusion Matrix')\n",
    "plt.savefig('confusion_matrix_5_100.png')\n",
    "plt.show()"
   ]
  },
  {
   "cell_type": "code",
   "execution_count": 28,
   "id": "ef579a83-b1c1-4658-8445-de837d85a000",
   "metadata": {},
   "outputs": [],
   "source": [
    "model.save('model_checkpoint/fruit_classifier_draft_50.h5')"
   ]
  },
  {
   "cell_type": "code",
   "execution_count": null,
   "id": "9cc26e33-50a3-4427-bd47-4b493d872b79",
   "metadata": {},
   "outputs": [],
   "source": []
  }
 ],
 "metadata": {
  "kernelspec": {
   "display_name": "Python 3 (ipykernel)",
   "language": "python",
   "name": "python3"
  },
  "language_info": {
   "codemirror_mode": {
    "name": "ipython",
    "version": 3
   },
   "file_extension": ".py",
   "mimetype": "text/x-python",
   "name": "python",
   "nbconvert_exporter": "python",
   "pygments_lexer": "ipython3",
   "version": "3.8.0"
  }
 },
 "nbformat": 4,
 "nbformat_minor": 5
}
